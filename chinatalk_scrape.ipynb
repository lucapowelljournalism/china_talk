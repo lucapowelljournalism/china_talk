{
 "cells": [
  {
   "cell_type": "code",
   "execution_count": 31,
   "metadata": {},
   "outputs": [],
   "source": [
    "import requests\n",
    "import csv\n",
    "import pandas as pd\n",
    "pd.options.display.max_rows = 100\n",
    "import tweepy\n",
    "#On June 19, 2019, we began enforcing a limit of 100,000 requests per day - Twitter"
   ]
  },
  {
   "cell_type": "code",
   "execution_count": 32,
   "metadata": {},
   "outputs": [],
   "source": [
    "candidates = pd.read_csv('./data/legislators\n",
    "                         .csv')"
   ]
  },
  {
   "cell_type": "code",
   "execution_count": 33,
   "metadata": {},
   "outputs": [],
   "source": [
    "names = candidates['full_name']"
   ]
  },
  {
   "cell_type": "code",
   "execution_count": 34,
   "metadata": {},
   "outputs": [],
   "source": [
    "handle = candidates['twitter']"
   ]
  },
  {
   "cell_type": "code",
   "execution_count": 37,
   "metadata": {},
   "outputs": [],
   "source": [
    "master = list(zip(names,handle)) #tuple"
   ]
  },
  {
   "cell_type": "code",
   "execution_count": 39,
   "metadata": {},
   "outputs": [],
   "source": [
    "consumer_key = 'jdvhzOk8WPuaFlE68jp7X4AtY'\n",
    "consumer_secret = '3y1iJMcYjMtN7jUER1KlHstEK6K8XTbl4xbvMyzM0zmcZBopmu'\n",
    "access_token = '3064094662-B04AU35oowS6K1FrTuoPFGQxmzFGGc2KXM4eIrX'\n",
    "access_secret = 'iGZPRFlFZKc2jJzxb9ifCZO7vZPz4xxmn9pX9En2TTjxn'"
   ]
  },
  {
   "cell_type": "code",
   "execution_count": 40,
   "metadata": {},
   "outputs": [],
   "source": [
    "    #sets variables that tweepy needs in order to ping Twitter.\n",
    "\n",
    "auth = tweepy.OAuthHandler(consumer_key, consumer_secret)\n",
    "auth.set_access_token(access_token, access_secret)\n",
    "\n",
    "api = tweepy.API(auth)\n"
   ]
  },
  {
   "cell_type": "code",
   "execution_count": 8,
   "metadata": {},
   "outputs": [],
   "source": [
    "# The scraper!\n",
    "\n",
    "def scrape_tweets(user,actual_name): #note that we have changed username to user\n",
    "    rows=[]\n",
    "    try:\n",
    "        public_tweets = api.user_timeline(screen_name=user,tweet_mode=\"extended\", include_rts=False,exclude_replies=True, count=\"1000\") #gets the timeline for a variable user\n",
    "        for tweet in public_tweets:\n",
    "            singletweet= tweet.full_text     ##    gets the full text of the tweet and stores it in a variable\n",
    "            date = tweet.created_at          ## gets the datetime of the tweet and stores it in a variable.\n",
    "            row = {\"tweet\":singletweet, \"dates\": date}\n",
    "            rows.append(row)\n",
    "        with open(f'./output/{actual_name}.csv', \"w\") as csvfile:   \n",
    "            fieldnames = [\"tweet\",\"dates\"]\n",
    "            writer = csv.DictWriter(csvfile, fieldnames=fieldnames)   ## These two lines write the fieldnames as headers in our CSV.\n",
    "            writer.writeheader()\n",
    "            for row in rows:\n",
    "                writer.writerow(row)\n",
    "                \n",
    "    except tweepy.TweepError: \n",
    "        print(f\"Failed to run the command on {user}, Skipping...\")   ## Some of them have broken Twitters, whelp.\n",
    "\n",
    "                    ##This is where you put your list of usernames##\n"
   ]
  },
  {
   "cell_type": "code",
   "execution_count": 7,
   "metadata": {},
   "outputs": [],
   "source": [
    "for person in master:\n",
    "    actual_name = person[0] #pulls their full name from the tuple list\n",
    "    username = person[1] #pulls their username from the tuple list\n",
    "    scrape_tweets(username, actual_name)\n",
    "    print(f\"Scraping {actual_name}\")\n"
   ]
  },
  {
   "cell_type": "code",
   "execution_count": null,
   "metadata": {},
   "outputs": [],
   "source": []
  }
 ],
 "metadata": {
  "kernelspec": {
   "display_name": "Python 3",
   "language": "python",
   "name": "python3"
  },
  "language_info": {
   "codemirror_mode": {
    "name": "ipython",
    "version": 3
   },
   "file_extension": ".py",
   "mimetype": "text/x-python",
   "name": "python",
   "nbconvert_exporter": "python",
   "pygments_lexer": "ipython3",
   "version": "3.8.2"
  }
 },
 "nbformat": 4,
 "nbformat_minor": 4
}
