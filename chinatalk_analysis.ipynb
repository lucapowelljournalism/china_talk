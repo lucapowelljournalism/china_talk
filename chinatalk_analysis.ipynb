{
 "cells": [
  {
   "cell_type": "code",
   "execution_count": 111,
   "metadata": {},
   "outputs": [],
   "source": [
    "import csv"
   ]
  },
  {
   "cell_type": "code",
   "execution_count": 112,
   "metadata": {},
   "outputs": [],
   "source": [
    "import pandas as pd"
   ]
  },
  {
   "cell_type": "code",
   "execution_count": 113,
   "metadata": {},
   "outputs": [],
   "source": [
    "import glob"
   ]
  },
  {
   "cell_type": "code",
   "execution_count": 114,
   "metadata": {},
   "outputs": [],
   "source": [
    "import os"
   ]
  },
  {
   "cell_type": "code",
   "execution_count": 115,
   "metadata": {},
   "outputs": [],
   "source": [
    "## Reads in a dataset of legislators from govtrack.com's GitHub.\n",
    "legislator_info = pd.read_csv('summary.csv')"
   ]
  },
  {
   "cell_type": "code",
   "execution_count": 116,
   "metadata": {},
   "outputs": [
    {
     "name": "stdout",
     "output_type": "stream",
     "text": [
      "<class 'pandas.core.frame.DataFrame'>\n",
      "RangeIndex: 526 entries, 0 to 525\n",
      "Data columns (total 8 columns):\n",
      " #   Column      Non-Null Count  Dtype  \n",
      "---  ------      --------------  -----  \n",
      " 0   full_name   526 non-null    object \n",
      " 1   gender      526 non-null    object \n",
      " 2   party       526 non-null    object \n",
      " 3   type        526 non-null    object \n",
      " 4   birthday    526 non-null    object \n",
      " 5   state       526 non-null    object \n",
      " 6   district    427 non-null    float64\n",
      " 7   generation  525 non-null    object \n",
      "dtypes: float64(1), object(7)\n",
      "memory usage: 33.0+ KB\n"
     ]
    }
   ],
   "source": [
    "legislator_info.drop(columns=['pct_true', 'count_all'],inplace=True)\n",
    "legislator_info.info()\n",
    "\n",
    "###  Now we have a spreadsheet with all the names of legislators and some data about them "
   ]
  },
  {
   "cell_type": "code",
   "execution_count": 117,
   "metadata": {},
   "outputs": [],
   "source": [
    "### Now I need to import my 200 tweets per legislator ###\n",
    "file_list = sorted(glob.glob('./legislator_tweets/*.csv'))"
   ]
  },
  {
   "cell_type": "code",
   "execution_count": 118,
   "metadata": {},
   "outputs": [],
   "source": [
    "### Now I need to loop through each file in file_list and read thru all rows to check for China ###"
   ]
  },
  {
   "cell_type": "code",
   "execution_count": 119,
   "metadata": {},
   "outputs": [],
   "source": [
    "# loop through all the file names\n",
    "summary_data = []\n",
    "for file in file_list: \n",
    "  # open csv\n",
    "  with open(file, newline='') as csvfile:\n",
    "    reader = csv.DictReader(csvfile)\n",
    "\n",
    "    # establish fresh values\n",
    "    count_all = 0\n",
    "    mentions_china = 0\n",
    "    pct_true = 0.0\n",
    "\n",
    "    # loop through all the rows in the csv\n",
    "    for row in reader:\n",
    "\n",
    "      # skip this row if there's no content\n",
    "      if row['tweet'] == \"\":\n",
    "        continue \n",
    "\n",
    "      # we have content, count this row\n",
    "      count_all += 1\n",
    "\n",
    "      #is China mentioned?\n",
    "      if 'China' in row['tweet'] or 'Chinese' in row['tweet'] or 'china' in row['tweet'] or 'chinese' in row['tweet']:\n",
    "        mentions_china += 1 \n",
    "        \n",
    "    short_file = os.path.basename(file)\n",
    "    \n",
    "    this_item = [short_file, count_all, mentions_china]\n",
    "    #print(this_item)\n",
    "\n",
    "    summary_data.append(this_item)\n",
    "\n"
   ]
  },
  {
   "cell_type": "code",
   "execution_count": 120,
   "metadata": {},
   "outputs": [],
   "source": [
    "### Ok so the function above reads every row in each file, then spits out one row with name,\n",
    "### .total tweets, and the number of tweets with China mentioned!"
   ]
  },
  {
   "cell_type": "code",
   "execution_count": 121,
   "metadata": {},
   "outputs": [],
   "source": [
    "### Change that list of lists to a dataframe \n",
    "china_mentions = pd.DataFrame(summary_data, columns=['file', 'count_all', 'mentions_china'])"
   ]
  },
  {
   "cell_type": "code",
   "execution_count": 122,
   "metadata": {},
   "outputs": [],
   "source": [
    "###  Need to take off the '.csv' there so I can merge it with my original data.  \n",
    "china_mentions['file'] = china_mentions['file'].str.replace('.csv','')"
   ]
  },
  {
   "cell_type": "code",
   "execution_count": 123,
   "metadata": {},
   "outputs": [],
   "source": [
    "### The merge !   \n",
    "merged = china_mentions.merge(legislator_info, left_on='file', right_on='full_name')"
   ]
  },
  {
   "cell_type": "code",
   "execution_count": 124,
   "metadata": {},
   "outputs": [],
   "source": [
    "###   The clean-up....\n",
    "merged.drop(columns=['file'], inplace=True)\n",
    "master = merged"
   ]
  },
  {
   "cell_type": "code",
   "execution_count": 132,
   "metadata": {},
   "outputs": [
    {
     "data": {
      "text/html": [
       "<div>\n",
       "<style scoped>\n",
       "    .dataframe tbody tr th:only-of-type {\n",
       "        vertical-align: middle;\n",
       "    }\n",
       "\n",
       "    .dataframe tbody tr th {\n",
       "        vertical-align: top;\n",
       "    }\n",
       "\n",
       "    .dataframe thead th {\n",
       "        text-align: right;\n",
       "    }\n",
       "</style>\n",
       "<table border=\"1\" class=\"dataframe\">\n",
       "  <thead>\n",
       "    <tr style=\"text-align: right;\">\n",
       "      <th></th>\n",
       "      <th>count_all</th>\n",
       "      <th>mentions_china</th>\n",
       "      <th>full_name</th>\n",
       "      <th>gender</th>\n",
       "      <th>party</th>\n",
       "      <th>type</th>\n",
       "      <th>birthday</th>\n",
       "      <th>state</th>\n",
       "      <th>district</th>\n",
       "      <th>generation</th>\n",
       "    </tr>\n",
       "  </thead>\n",
       "  <tbody>\n",
       "    <tr>\n",
       "      <th>0</th>\n",
       "      <td>118</td>\n",
       "      <td>0</td>\n",
       "      <td>A. Donald McEachin</td>\n",
       "      <td>M</td>\n",
       "      <td>Democrat</td>\n",
       "      <td>rep</td>\n",
       "      <td>1961-10-10</td>\n",
       "      <td>VA</td>\n",
       "      <td>4.0</td>\n",
       "      <td>Boomers</td>\n",
       "    </tr>\n",
       "    <tr>\n",
       "      <th>1</th>\n",
       "      <td>133</td>\n",
       "      <td>5</td>\n",
       "      <td>A. Drew Ferguson IV</td>\n",
       "      <td>M</td>\n",
       "      <td>Republican</td>\n",
       "      <td>rep</td>\n",
       "      <td>1966-11-15</td>\n",
       "      <td>GA</td>\n",
       "      <td>3.0</td>\n",
       "      <td>Gen X</td>\n",
       "    </tr>\n",
       "    <tr>\n",
       "      <th>2</th>\n",
       "      <td>151</td>\n",
       "      <td>2</td>\n",
       "      <td>Abby Finkenauer</td>\n",
       "      <td>F</td>\n",
       "      <td>Democrat</td>\n",
       "      <td>rep</td>\n",
       "      <td>1988-12-27</td>\n",
       "      <td>IA</td>\n",
       "      <td>1.0</td>\n",
       "      <td>Millennial</td>\n",
       "    </tr>\n",
       "    <tr>\n",
       "      <th>3</th>\n",
       "      <td>153</td>\n",
       "      <td>0</td>\n",
       "      <td>Abigail Davis Spanberger</td>\n",
       "      <td>F</td>\n",
       "      <td>Democrat</td>\n",
       "      <td>rep</td>\n",
       "      <td>1979-08-07</td>\n",
       "      <td>VA</td>\n",
       "      <td>7.0</td>\n",
       "      <td>Gen X</td>\n",
       "    </tr>\n",
       "    <tr>\n",
       "      <th>4</th>\n",
       "      <td>195</td>\n",
       "      <td>4</td>\n",
       "      <td>Adam B. Schiff</td>\n",
       "      <td>M</td>\n",
       "      <td>Democrat</td>\n",
       "      <td>rep</td>\n",
       "      <td>1960-06-22</td>\n",
       "      <td>CA</td>\n",
       "      <td>28.0</td>\n",
       "      <td>Boomers</td>\n",
       "    </tr>\n",
       "  </tbody>\n",
       "</table>\n",
       "</div>"
      ],
      "text/plain": [
       "   count_all  mentions_china                 full_name gender       party  \\\n",
       "0        118               0        A. Donald McEachin      M    Democrat   \n",
       "1        133               5       A. Drew Ferguson IV      M  Republican   \n",
       "2        151               2           Abby Finkenauer      F    Democrat   \n",
       "3        153               0  Abigail Davis Spanberger      F    Democrat   \n",
       "4        195               4            Adam B. Schiff      M    Democrat   \n",
       "\n",
       "  type    birthday state  district  generation  \n",
       "0  rep  1961-10-10    VA       4.0     Boomers  \n",
       "1  rep  1966-11-15    GA       3.0       Gen X  \n",
       "2  rep  1988-12-27    IA       1.0  Millennial  \n",
       "3  rep  1979-08-07    VA       7.0       Gen X  \n",
       "4  rep  1960-06-22    CA      28.0     Boomers  "
      ]
     },
     "execution_count": 132,
     "metadata": {},
     "output_type": "execute_result"
    }
   ],
   "source": [
    "### This is the data I will work with.\n",
    "master.head()"
   ]
  },
  {
   "cell_type": "code",
   "execution_count": 126,
   "metadata": {},
   "outputs": [],
   "source": [
    "## Questions:\n",
    "## Which congressperson mentions China the absolute most? Out of their total tweets, how many times did they mention it?\n",
    "## Which party talks about China the most?\n",
    "## Who talks about China more, the House or the Senate?\n",
    "## Which Age groups talks about China the most? (Might not be significant)"
   ]
  },
  {
   "cell_type": "code",
   "execution_count": 134,
   "metadata": {},
   "outputs": [],
   "source": [
    "## Question 1: ## Which congressperson mentions China the absolute most?\n",
    "##    sub question: Out of their total tweets, how many times did they mention it?\n"
   ]
  },
  {
   "cell_type": "code",
   "execution_count": 156,
   "metadata": {},
   "outputs": [
    {
     "data": {
      "text/html": [
       "<div>\n",
       "<style scoped>\n",
       "    .dataframe tbody tr th:only-of-type {\n",
       "        vertical-align: middle;\n",
       "    }\n",
       "\n",
       "    .dataframe tbody tr th {\n",
       "        vertical-align: top;\n",
       "    }\n",
       "\n",
       "    .dataframe thead th {\n",
       "        text-align: right;\n",
       "    }\n",
       "</style>\n",
       "<table border=\"1\" class=\"dataframe\">\n",
       "  <thead>\n",
       "    <tr style=\"text-align: right;\">\n",
       "      <th></th>\n",
       "      <th>count_all</th>\n",
       "      <th>mentions_china</th>\n",
       "      <th>full_name</th>\n",
       "      <th>gender</th>\n",
       "      <th>party</th>\n",
       "      <th>type</th>\n",
       "      <th>birthday</th>\n",
       "      <th>state</th>\n",
       "      <th>district</th>\n",
       "      <th>generation</th>\n",
       "    </tr>\n",
       "  </thead>\n",
       "  <tbody>\n",
       "    <tr>\n",
       "      <th>0</th>\n",
       "      <td>143</td>\n",
       "      <td>75</td>\n",
       "      <td>Tom Cotton</td>\n",
       "      <td>M</td>\n",
       "      <td>Republican</td>\n",
       "      <td>sen</td>\n",
       "      <td>1977-05-13</td>\n",
       "      <td>AR</td>\n",
       "      <td>NaN</td>\n",
       "      <td>Gen X</td>\n",
       "    </tr>\n",
       "    <tr>\n",
       "      <th>1</th>\n",
       "      <td>145</td>\n",
       "      <td>60</td>\n",
       "      <td>Marsha Blackburn</td>\n",
       "      <td>F</td>\n",
       "      <td>Republican</td>\n",
       "      <td>sen</td>\n",
       "      <td>1952-06-06</td>\n",
       "      <td>TN</td>\n",
       "      <td>NaN</td>\n",
       "      <td>Boomers</td>\n",
       "    </tr>\n",
       "    <tr>\n",
       "      <th>2</th>\n",
       "      <td>165</td>\n",
       "      <td>56</td>\n",
       "      <td>Mark E. Green</td>\n",
       "      <td>M</td>\n",
       "      <td>Republican</td>\n",
       "      <td>rep</td>\n",
       "      <td>1964-11-08</td>\n",
       "      <td>TN</td>\n",
       "      <td>7.0</td>\n",
       "      <td>Boomers</td>\n",
       "    </tr>\n",
       "    <tr>\n",
       "      <th>3</th>\n",
       "      <td>145</td>\n",
       "      <td>55</td>\n",
       "      <td>Jim Banks</td>\n",
       "      <td>M</td>\n",
       "      <td>Republican</td>\n",
       "      <td>rep</td>\n",
       "      <td>1979-07-16</td>\n",
       "      <td>IN</td>\n",
       "      <td>3.0</td>\n",
       "      <td>Gen X</td>\n",
       "    </tr>\n",
       "    <tr>\n",
       "      <th>4</th>\n",
       "      <td>139</td>\n",
       "      <td>47</td>\n",
       "      <td>Michael Waltz</td>\n",
       "      <td>M</td>\n",
       "      <td>Republican</td>\n",
       "      <td>rep</td>\n",
       "      <td>1974-01-31</td>\n",
       "      <td>FL</td>\n",
       "      <td>6.0</td>\n",
       "      <td>Gen X</td>\n",
       "    </tr>\n",
       "    <tr>\n",
       "      <th>...</th>\n",
       "      <td>...</td>\n",
       "      <td>...</td>\n",
       "      <td>...</td>\n",
       "      <td>...</td>\n",
       "      <td>...</td>\n",
       "      <td>...</td>\n",
       "      <td>...</td>\n",
       "      <td>...</td>\n",
       "      <td>...</td>\n",
       "      <td>...</td>\n",
       "    </tr>\n",
       "    <tr>\n",
       "      <th>521</th>\n",
       "      <td>179</td>\n",
       "      <td>0</td>\n",
       "      <td>Jared Huffman</td>\n",
       "      <td>M</td>\n",
       "      <td>Democrat</td>\n",
       "      <td>rep</td>\n",
       "      <td>1964-02-18</td>\n",
       "      <td>CA</td>\n",
       "      <td>2.0</td>\n",
       "      <td>Boomers</td>\n",
       "    </tr>\n",
       "    <tr>\n",
       "      <th>522</th>\n",
       "      <td>94</td>\n",
       "      <td>0</td>\n",
       "      <td>Jared F. Golden</td>\n",
       "      <td>M</td>\n",
       "      <td>Democrat</td>\n",
       "      <td>rep</td>\n",
       "      <td>1982-07-25</td>\n",
       "      <td>ME</td>\n",
       "      <td>2.0</td>\n",
       "      <td>Millennial</td>\n",
       "    </tr>\n",
       "    <tr>\n",
       "      <th>523</th>\n",
       "      <td>84</td>\n",
       "      <td>0</td>\n",
       "      <td>Janice D. Schakowsky</td>\n",
       "      <td>F</td>\n",
       "      <td>Democrat</td>\n",
       "      <td>rep</td>\n",
       "      <td>1944-05-26</td>\n",
       "      <td>IL</td>\n",
       "      <td>9.0</td>\n",
       "      <td>Boomers</td>\n",
       "    </tr>\n",
       "    <tr>\n",
       "      <th>524</th>\n",
       "      <td>53</td>\n",
       "      <td>0</td>\n",
       "      <td>Jamie Raskin</td>\n",
       "      <td>M</td>\n",
       "      <td>Democrat</td>\n",
       "      <td>rep</td>\n",
       "      <td>1962-12-13</td>\n",
       "      <td>MD</td>\n",
       "      <td>8.0</td>\n",
       "      <td>Boomers</td>\n",
       "    </tr>\n",
       "    <tr>\n",
       "      <th>525</th>\n",
       "      <td>65</td>\n",
       "      <td>0</td>\n",
       "      <td>Zoe Lofgren</td>\n",
       "      <td>F</td>\n",
       "      <td>Democrat</td>\n",
       "      <td>rep</td>\n",
       "      <td>1947-12-21</td>\n",
       "      <td>CA</td>\n",
       "      <td>19.0</td>\n",
       "      <td>Boomers</td>\n",
       "    </tr>\n",
       "  </tbody>\n",
       "</table>\n",
       "<p>526 rows × 10 columns</p>\n",
       "</div>"
      ],
      "text/plain": [
       "     count_all  mentions_china             full_name gender       party type  \\\n",
       "0          143              75            Tom Cotton      M  Republican  sen   \n",
       "1          145              60      Marsha Blackburn      F  Republican  sen   \n",
       "2          165              56         Mark E. Green      M  Republican  rep   \n",
       "3          145              55             Jim Banks      M  Republican  rep   \n",
       "4          139              47         Michael Waltz      M  Republican  rep   \n",
       "..         ...             ...                   ...    ...         ...  ...   \n",
       "521        179               0         Jared Huffman      M    Democrat  rep   \n",
       "522         94               0       Jared F. Golden      M    Democrat  rep   \n",
       "523         84               0  Janice D. Schakowsky      F    Democrat  rep   \n",
       "524         53               0          Jamie Raskin      M    Democrat  rep   \n",
       "525         65               0           Zoe Lofgren      F    Democrat  rep   \n",
       "\n",
       "       birthday state  district  generation  \n",
       "0    1977-05-13    AR       NaN       Gen X  \n",
       "1    1952-06-06    TN       NaN     Boomers  \n",
       "2    1964-11-08    TN       7.0     Boomers  \n",
       "3    1979-07-16    IN       3.0       Gen X  \n",
       "4    1974-01-31    FL       6.0       Gen X  \n",
       "..          ...   ...       ...         ...  \n",
       "521  1964-02-18    CA       2.0     Boomers  \n",
       "522  1982-07-25    ME       2.0  Millennial  \n",
       "523  1944-05-26    IL       9.0     Boomers  \n",
       "524  1962-12-13    MD       8.0     Boomers  \n",
       "525  1947-12-21    CA      19.0     Boomers  \n",
       "\n",
       "[526 rows x 10 columns]"
      ]
     },
     "execution_count": 156,
     "metadata": {},
     "output_type": "execute_result"
    }
   ],
   "source": [
    "master.sort_values('mentions_china', ascending=False).reset_index(drop=True)"
   ]
  },
  {
   "cell_type": "code",
   "execution_count": 144,
   "metadata": {},
   "outputs": [],
   "source": [
    "## Answer: Tom Cotton mentions China the most. That's not too surprising, he was the one pushing that bioweapons theory in April."
   ]
  },
  {
   "cell_type": "code",
   "execution_count": 200,
   "metadata": {},
   "outputs": [
    {
     "data": {
      "text/plain": [
       "party\n",
       "Democrat        121\n",
       "Independent       1\n",
       "Republican     1230\n",
       "Name: mentions_china, dtype: int64"
      ]
     },
     "execution_count": 200,
     "metadata": {},
     "output_type": "execute_result"
    }
   ],
   "source": [
    "## Which party talks about China the most?\n",
    "party_mentions = master.groupby(\"party\")['mentions_china'].sum()\n",
    "party_mentions"
   ]
  },
  {
   "cell_type": "code",
   "execution_count": 203,
   "metadata": {},
   "outputs": [
    {
     "data": {
      "text/plain": [
       "type\n",
       "rep    952\n",
       "sen    400\n",
       "Name: mentions_china, dtype: int64"
      ]
     },
     "execution_count": 203,
     "metadata": {},
     "output_type": "execute_result"
    }
   ],
   "source": [
    "## Who talks about China more, the House or the Senate?\n",
    "type_mentions = master.groupby(\"type\")['mentions_china'].sum()\n",
    "type_mentions"
   ]
  },
  {
   "cell_type": "code",
   "execution_count": 208,
   "metadata": {},
   "outputs": [],
   "source": [
    "## Members of the house mentioned China 2.4 times as much as members of the Senate."
   ]
  },
  {
   "cell_type": "code",
   "execution_count": 207,
   "metadata": {},
   "outputs": [
    {
     "data": {
      "text/plain": [
       "generation\n",
       "Boomers       633\n",
       "Gen X         588\n",
       "Millennial    100\n",
       "Silent         31\n",
       "Name: mentions_china, dtype: int64"
      ]
     },
     "execution_count": 207,
     "metadata": {},
     "output_type": "execute_result"
    }
   ],
   "source": [
    "## Which Age groups tweeted about China the most? (Might not be significant)\n",
    "age_mentions = master.groupby(\"generation\")['mentions_china'].sum()\n",
    "age_mentions"
   ]
  },
  {
   "cell_type": "code",
   "execution_count": null,
   "metadata": {},
   "outputs": [],
   "source": []
  }
 ],
 "metadata": {
  "kernelspec": {
   "display_name": "Python 3",
   "language": "python",
   "name": "python3"
  },
  "language_info": {
   "codemirror_mode": {
    "name": "ipython",
    "version": 3
   },
   "file_extension": ".py",
   "mimetype": "text/x-python",
   "name": "python",
   "nbconvert_exporter": "python",
   "pygments_lexer": "ipython3",
   "version": "3.8.2"
  }
 },
 "nbformat": 4,
 "nbformat_minor": 4
}
